{
 "cells": [
  {
   "cell_type": "raw",
   "id": "35897a55-47bb-4157-8775-39db50bc0013",
   "metadata": {},
   "source": [
    "1. Import Dependencies"
   ]
  },
  {
   "cell_type": "code",
   "execution_count": 2,
   "id": "a24f72e7-267a-420f-8ae8-49937c1715ce",
   "metadata": {},
   "outputs": [],
   "source": [
    "import cv2\n",
    "import numpy as np\n",
    "import os\n",
    "from matplotlib import pyplot as plt\n",
    "import time\n",
    "import mediapipe as mp"
   ]
  },
  {
   "cell_type": "raw",
   "id": "6fcf5ee7-457f-4385-af63-c4d3b1746166",
   "metadata": {},
   "source": [
    "2. Keypoints using MP Holistic"
   ]
  },
  {
   "cell_type": "code",
   "execution_count": 6,
   "id": "8a7be22b-61b5-4c2e-88f2-0f4189b64538",
   "metadata": {},
   "outputs": [],
   "source": [
    "mp_holistic = mp.solutions.holistic    # holistic model\n",
    "mp_drawing = mp.solutions.drawing_utils    # drawing utilities"
   ]
  },
  {
   "cell_type": "code",
   "execution_count": 8,
   "id": "f6fdc4d4-df81-478c-87c8-2cf47783bd38",
   "metadata": {},
   "outputs": [],
   "source": [
    "def mediapipe_detection(image, model):\n",
    "    image = cv2.cvtColor(image, cv2.COLOR_BGR2RGB)\n",
    "    image.flags.writeable = False\n",
    "    results = model.process(image)\n",
    "    image.flags.writeable = True\n",
    "    image = cv2.cvtColor(image, cv2.COLOR_RGB2BGR)\n",
    "    return image, results"
   ]
  },
  {
   "cell_type": "code",
   "execution_count": 4,
   "id": "0c37129a-61ac-4cdd-89e6-ddfa38fd070d",
   "metadata": {},
   "outputs": [],
   "source": [
    "cap = cv2.VideoCapture(0)    # access our webcam\n",
    "while cap.isOpened():    # read videofeed from webcam, loop through all frames in camera\n",
    "    # read feed\n",
    "    ret, frame = cap.read()    # grab current frame from our camera at a point in time\n",
    "    # show to screen\n",
    "    cv2.imshow(\"OpenCV Feed\", frame)\n",
    "    # breaking gracefully\n",
    "    if cv2.waitKey(10) & 0xFF==ord('q'):    # wait for key to be pressed inside our frame and if key==q then break out\n",
    "        break\n",
    "cap.release()    # release our webcam\n",
    "cv2.destroyAllWindows()    # close our frame"
   ]
  }
 ],
 "metadata": {
  "kernelspec": {
   "display_name": "signlang",
   "language": "python",
   "name": "signlang"
  },
  "language_info": {
   "codemirror_mode": {
    "name": "ipython",
    "version": 3
   },
   "file_extension": ".py",
   "mimetype": "text/x-python",
   "name": "python",
   "nbconvert_exporter": "python",
   "pygments_lexer": "ipython3",
   "version": "3.11.8"
  }
 },
 "nbformat": 4,
 "nbformat_minor": 5
}
